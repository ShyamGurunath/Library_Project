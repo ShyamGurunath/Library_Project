{
 "cells": [
  {
   "cell_type": "code",
   "execution_count": 112,
   "metadata": {},
   "outputs": [],
   "source": [
    "st_list = pd.read_excel('useridsalone-2.xlsx',sheet_name=2)\n",
    "st_book_trans_lib = pd.read_excel('useridsalone-2.xlsx',sheet_name=1)\n",
    "st_entry_lib = pd.read_excel('useridsalone-2.xlsx',sheet_name=0)"
   ]
  },
  {
   "cell_type": "code",
   "execution_count": 113,
   "metadata": {},
   "outputs": [],
   "source": [
    "import numpy as np\n",
    "import pandas as pd\n",
    "from django.utils.crypto import get_random_string\n",
    "def idmap(st_data,records): \n",
    "    try:\n",
    "        no_of_students = len(st_data['roll_no'])\n",
    "        n = pd.Series(np.arange(0,no_of_students,step=1))\n",
    "        n = n.map(str)\n",
    "        st_data['id']=n.apply(lambda x: get_random_string(8))\n",
    "        records.columns = ['roll_no']\n",
    "        records['batch_no'] = records.roll_no.str[0:2]\n",
    "        records['prog'] = records.roll_no.str[2]\n",
    "        records['prog'] = list(map(lambda x : x.upper(),records.prog))\n",
    "        records['dept'] = records.roll_no.str[3:5]\n",
    "        records['dept'] = list(map(lambda x : x.upper(),records.dept))\n",
    "        records['roll_no_num'] = records.roll_no.str[5:]\n",
    "        records['roll_no']=records['batch_no'].map(str)+records['prog'].map(str)+records['dept'].map(str)+records['roll_no_num'].map(str)\n",
    "\n",
    "        #filtering\n",
    "        filt = (records['dept'] == 'ME') & (records['prog'] == 'B')\n",
    "        records = records.loc[filt]\n",
    "        df_name = pd.merge(records,st_data,how='right',on='roll_no')\n",
    "        df_name.drop(columns=['roll_no','roll_no_num'],inplace=True)\n",
    "        df_name.to_csv('st2.csv')\n",
    "    except FileNotFoundError:\n",
    "        print(FileNotFoundError)\n",
    "    else:\n",
    "        print(st_list.head(5))\n",
    "    finally:\n",
    "        print('Code ran sucessfulyy')\n",
    "\n",
    "    \n",
    "        # df.head() \n",
    "    return df_name"
   ]
  },
  {
   "cell_type": "code",
   "execution_count": 114,
   "metadata": {
    "tags": []
   },
   "outputs": [
    {
     "output_type": "stream",
     "name": "stdout",
     "text": "roll_no        id\n0  13BME001  PrDEbhZa\n1  13BME003  eKjSA6ks\n2  13BME005  yX05NiRL\n3  13BME007  wDCZ0oBS\n4  13BME009  xyTnNIHC\nCode ran sucessfulyy\n    roll_no        id\n0  13BME001  k6CWogI4\n1  13BME003  pPTT8PQK\n2  13BME005  AlwTO06t\n3  13BME007  nUBT9flO\n4  13BME009  OVOlZmNB\nCode ran sucessfulyy\n"
    }
   ],
   "source": [
    "result = idmap(st_list,st_book_trans_lib)\n",
    "result2 = idmap(st_list,st_entry_lib)"
   ]
  },
  {
   "cell_type": "code",
   "execution_count": 135,
   "metadata": {},
   "outputs": [
    {
     "output_type": "execute_result",
     "data": {
      "text/plain": "     batch_no prog dept        id\n0          15    B   ME  LejjgV7O\n1          15    B   ME  LejjgV7O\n2          15    B   ME  LejjgV7O\n3          15    B   ME  LejjgV7O\n4          15    B   ME  LejjgV7O\n...       ...  ...  ...       ...\n9181      NaN  NaN  NaN  GZLELiQO\n9182      NaN  NaN  NaN  vfvinMDS\n9183      NaN  NaN  NaN  PJE3LMEE\n9184      NaN  NaN  NaN  wxjIxV3h\n9185      NaN  NaN  NaN  Ld70dO4J\n\n[9186 rows x 4 columns]",
      "text/html": "<div>\n<style scoped>\n    .dataframe tbody tr th:only-of-type {\n        vertical-align: middle;\n    }\n\n    .dataframe tbody tr th {\n        vertical-align: top;\n    }\n\n    .dataframe thead th {\n        text-align: right;\n    }\n</style>\n<table border=\"1\" class=\"dataframe\">\n  <thead>\n    <tr style=\"text-align: right;\">\n      <th></th>\n      <th>batch_no</th>\n      <th>prog</th>\n      <th>dept</th>\n      <th>id</th>\n    </tr>\n  </thead>\n  <tbody>\n    <tr>\n      <th>0</th>\n      <td>15</td>\n      <td>B</td>\n      <td>ME</td>\n      <td>LejjgV7O</td>\n    </tr>\n    <tr>\n      <th>1</th>\n      <td>15</td>\n      <td>B</td>\n      <td>ME</td>\n      <td>LejjgV7O</td>\n    </tr>\n    <tr>\n      <th>2</th>\n      <td>15</td>\n      <td>B</td>\n      <td>ME</td>\n      <td>LejjgV7O</td>\n    </tr>\n    <tr>\n      <th>3</th>\n      <td>15</td>\n      <td>B</td>\n      <td>ME</td>\n      <td>LejjgV7O</td>\n    </tr>\n    <tr>\n      <th>4</th>\n      <td>15</td>\n      <td>B</td>\n      <td>ME</td>\n      <td>LejjgV7O</td>\n    </tr>\n    <tr>\n      <th>...</th>\n      <td>...</td>\n      <td>...</td>\n      <td>...</td>\n      <td>...</td>\n    </tr>\n    <tr>\n      <th>9181</th>\n      <td>NaN</td>\n      <td>NaN</td>\n      <td>NaN</td>\n      <td>GZLELiQO</td>\n    </tr>\n    <tr>\n      <th>9182</th>\n      <td>NaN</td>\n      <td>NaN</td>\n      <td>NaN</td>\n      <td>vfvinMDS</td>\n    </tr>\n    <tr>\n      <th>9183</th>\n      <td>NaN</td>\n      <td>NaN</td>\n      <td>NaN</td>\n      <td>PJE3LMEE</td>\n    </tr>\n    <tr>\n      <th>9184</th>\n      <td>NaN</td>\n      <td>NaN</td>\n      <td>NaN</td>\n      <td>wxjIxV3h</td>\n    </tr>\n    <tr>\n      <th>9185</th>\n      <td>NaN</td>\n      <td>NaN</td>\n      <td>NaN</td>\n      <td>Ld70dO4J</td>\n    </tr>\n  </tbody>\n</table>\n<p>9186 rows × 4 columns</p>\n</div>"
     },
     "metadata": {},
     "execution_count": 135
    }
   ],
   "source": [
    "result"
   ]
  },
  {
   "cell_type": "code",
   "execution_count": 117,
   "metadata": {},
   "outputs": [
    {
     "output_type": "execute_result",
     "data": {
      "text/plain": "919"
     },
     "metadata": {},
     "execution_count": 117
    }
   ],
   "source": [
    "len(result['id'].unique())"
   ]
  },
  {
   "cell_type": "code",
   "execution_count": 122,
   "metadata": {},
   "outputs": [
    {
     "output_type": "execute_result",
     "data": {
      "text/plain": "            id batch_no\n0     LejjgV7O       15\n1     LejjgV7O       15\n2     LejjgV7O       15\n3     LejjgV7O       15\n4     LejjgV7O       15\n...        ...      ...\n9181  GZLELiQO      NaN\n9182  vfvinMDS      NaN\n9183  PJE3LMEE      NaN\n9184  wxjIxV3h      NaN\n9185  Ld70dO4J      NaN\n\n[9186 rows x 2 columns]",
      "text/html": "<div>\n<style scoped>\n    .dataframe tbody tr th:only-of-type {\n        vertical-align: middle;\n    }\n\n    .dataframe tbody tr th {\n        vertical-align: top;\n    }\n\n    .dataframe thead th {\n        text-align: right;\n    }\n</style>\n<table border=\"1\" class=\"dataframe\">\n  <thead>\n    <tr style=\"text-align: right;\">\n      <th></th>\n      <th>id</th>\n      <th>batch_no</th>\n    </tr>\n  </thead>\n  <tbody>\n    <tr>\n      <th>0</th>\n      <td>LejjgV7O</td>\n      <td>15</td>\n    </tr>\n    <tr>\n      <th>1</th>\n      <td>LejjgV7O</td>\n      <td>15</td>\n    </tr>\n    <tr>\n      <th>2</th>\n      <td>LejjgV7O</td>\n      <td>15</td>\n    </tr>\n    <tr>\n      <th>3</th>\n      <td>LejjgV7O</td>\n      <td>15</td>\n    </tr>\n    <tr>\n      <th>4</th>\n      <td>LejjgV7O</td>\n      <td>15</td>\n    </tr>\n    <tr>\n      <th>...</th>\n      <td>...</td>\n      <td>...</td>\n    </tr>\n    <tr>\n      <th>9181</th>\n      <td>GZLELiQO</td>\n      <td>NaN</td>\n    </tr>\n    <tr>\n      <th>9182</th>\n      <td>vfvinMDS</td>\n      <td>NaN</td>\n    </tr>\n    <tr>\n      <th>9183</th>\n      <td>PJE3LMEE</td>\n      <td>NaN</td>\n    </tr>\n    <tr>\n      <th>9184</th>\n      <td>wxjIxV3h</td>\n      <td>NaN</td>\n    </tr>\n    <tr>\n      <th>9185</th>\n      <td>Ld70dO4J</td>\n      <td>NaN</td>\n    </tr>\n  </tbody>\n</table>\n<p>9186 rows × 2 columns</p>\n</div>"
     },
     "metadata": {},
     "execution_count": 122
    }
   ],
   "source": [
    "result[['id','batch_no']]"
   ]
  },
  {
   "cell_type": "code",
   "execution_count": 125,
   "metadata": {},
   "outputs": [
    {
     "output_type": "execute_result",
     "data": {
      "text/plain": "919"
     },
     "metadata": {},
     "execution_count": 125
    }
   ],
   "source": [
    "len(result['id'].unique())"
   ]
  },
  {
   "cell_type": "code",
   "execution_count": 134,
   "metadata": {},
   "outputs": [
    {
     "output_type": "execute_result",
     "data": {
      "text/plain": "True"
     },
     "metadata": {},
     "execution_count": 134
    }
   ],
   "source": [
    "any(result.isna())"
   ]
  }
 ],
 "metadata": {
  "language_info": {
   "codemirror_mode": {
    "name": "ipython",
    "version": 3
   },
   "file_extension": ".py",
   "mimetype": "text/x-python",
   "name": "python",
   "nbconvert_exporter": "python",
   "pygments_lexer": "ipython3",
   "version": "3.8.3-final"
  },
  "orig_nbformat": 2,
  "kernelspec": {
   "name": "python38364bitlibraryconda2297501e51514329a34a43c101e3103a",
   "display_name": "Python 3.8.3 64-bit ('library': conda)"
  }
 },
 "nbformat": 4,
 "nbformat_minor": 2
}